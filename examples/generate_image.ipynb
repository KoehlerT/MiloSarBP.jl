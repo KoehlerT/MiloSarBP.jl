{
 "cells": [
  {
   "cell_type": "code",
   "execution_count": null,
   "id": "bbd3f80b",
   "metadata": {},
   "outputs": [],
   "source": [
    "# Once\n",
    "import Pkg\n",
    "Pkg.activate(\".\") # Activate a work environment (like with conda) in this working directory (can be omitted to use the default environment)\n",
    "Pkg.add(url=\"https://github.com/KoehlerT/MiloSarBP.jl\") # Install and Precompile the package to this environment (only needs to be done once)\n",
    "# Do it via github at the moment, because the package will not be accepted due to a lack of tests and Domain Specificy\n",
    "Pkg.add(\"PyPlot\")"
   ]
  },
  {
   "cell_type": "code",
   "execution_count": null,
   "id": "2ef9a79d",
   "metadata": {},
   "outputs": [],
   "source": [
    "# Everytime after installation was successful\n",
    "import Pkg\n",
    "Pkg.activate(\".\")"
   ]
  },
  {
   "cell_type": "code",
   "execution_count": null,
   "id": "62b0e24c",
   "metadata": {},
   "outputs": [],
   "source": [
    "import MiloSarBP\n",
    "\n",
    "config = MiloSarBP.Config(\n",
    "\t# Data Input Directory (should contain the summary.ini, fligt.bin and path.json)\n",
    "\t\"PATH_TO_FLIGHT/23_06_21_12_30_14\",\n",
    "\t# Range Offset due to system specifics\n",
    "\t14.7\n",
    ");\n",
    "\n",
    "# Read the radar data\n",
    "# data: Dataframe with Timestamp, Position, Orientation and Raw Radar Signal\n",
    "# bandconfig: Configruation of the radar parameters (ramp steepness etc.)\n",
    "data, bandconfig = MiloSarBP.read(config);\n",
    "\n",
    "# Area in UTM Coordinates\n",
    "area = MiloSarBP.generate_position_grid(\n",
    "\t# Bottom Left\n",
    "\t[2.609400501848896e+05, 6220761.085691286, 50.417764027515660], \n",
    "\t# Top Right\n",
    "\t[2.609948638294746e+05, 6220815.581316797, 49.323503814433934],\n",
    "\t# Resolution\n",
    "\t0.05\n",
    ");"
   ]
  },
  {
   "cell_type": "code",
   "execution_count": null,
   "id": "109b6c50",
   "metadata": {},
   "outputs": [],
   "source": [
    "# Generate the Image. Only use part of the data, where the area is very visible\n",
    "image = MiloSarBP.backprojection_vec(data[1140:5530,:], area, config, bandconfig);"
   ]
  },
  {
   "cell_type": "code",
   "execution_count": null,
   "id": "8353c2a0",
   "metadata": {},
   "outputs": [],
   "source": [
    "scr, peak, clutter = MiloSarBP.Quality.signal_clutter_ratio(image);\n",
    "println(\"SCR: $scr dB\")"
   ]
  },
  {
   "cell_type": "code",
   "execution_count": null,
   "id": "7b99d56b",
   "metadata": {},
   "outputs": [],
   "source": [
    "import PyPlot\n",
    "plt = MiloSarBP.Plot.backprojection(image, area)\n",
    "PyPlot.clim(clutter-0.5, peak)\n",
    "PyPlot.gcf() # When in jupyter notebooks"
   ]
  }
 ],
 "metadata": {
  "kernelspec": {
   "display_name": "Julia 1.11.5",
   "language": "julia",
   "name": "julia-1.11"
  },
  "language_info": {
   "file_extension": ".jl",
   "mimetype": "application/julia",
   "name": "julia",
   "version": "1.11.5"
  }
 },
 "nbformat": 4,
 "nbformat_minor": 5
}
